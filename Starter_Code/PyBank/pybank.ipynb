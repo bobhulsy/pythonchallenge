{
 "cells": [
  {
   "cell_type": "code",
   "execution_count": 43,
   "metadata": {},
   "outputs": [],
   "source": [
    "import os\n",
    "import csv"
   ]
  },
  {
   "cell_type": "code",
   "execution_count": 44,
   "metadata": {},
   "outputs": [],
   "source": [
    "# Set up variables to hold financial analysis data\n",
    "total_months = 0\n",
    "net_total = 0\n",
    "profit_changes = []\n",
    "greatest_increase = {\"date\": \"\", \"amount\": 0}\n",
    "greatest_decrease = {\"date\": \"\", \"amount\": 0}"
   ]
  },
  {
   "cell_type": "code",
   "execution_count": 45,
   "metadata": {},
   "outputs": [],
   "source": [
    "# Open the budget_data.csv file and read in the data using csv.reader()\n",
    "with open(\"Resources/budget_data.csv\") as csvfile:\n",
    "    csvreader = csv.reader(csvfile, delimiter=\",\")\n",
    "    # Skip the header row\n",
    "    next(csvreader)\n",
    "    # Loop through each row of data and perform financial analysis\n",
    "    for row in csvreader:\n",
    "        # Increment the total number of months\n",
    "        total_months += 1\n",
    "        # Add the profit/loss to the net total\n",
    "        net_total += int(row[1])\n",
    "        # Calculate the change in profit/loss from the previous month (if applicable)\n",
    "        if total_months > 1:\n",
    "            current_profit = int(row[1])\n",
    "            previous_profit = int(previous_row[1])\n",
    "            profit_change = current_profit - previous_profit\n",
    "            profit_changes.append(profit_change)\n",
    "            # Check for greatest increase/decrease in profits\n",
    "            if profit_change > greatest_increase[\"amount\"]:\n",
    "                greatest_increase[\"date\"] = row[0]\n",
    "                greatest_increase[\"amount\"] = profit_change\n",
    "            elif profit_change < greatest_decrease[\"amount\"]:\n",
    "                greatest_decrease[\"date\"] = row[0]\n",
    "                greatest_decrease[\"amount\"] = profit_change\n",
    "        # Store the current row for use in the next iteration\n",
    "        previous_row = row"
   ]
  },
  {
   "cell_type": "code",
   "execution_count": 46,
   "metadata": {},
   "outputs": [],
   "source": [
    "# Calculate the average change in profit/loss over the entire period\n",
    "# The average_change variable is calculated by dividing the sum of profit/loss changes by the total number of changes\n",
    "total_changes = len(profit_changes)\n",
    "if total_changes > 0:\n",
    "    average_change = sum(profit_changes) / total_changes\n",
    "else:\n",
    "    average_change = 0"
   ]
  },
  {
   "cell_type": "code",
   "execution_count": 47,
   "metadata": {},
   "outputs": [],
   "source": [
    "# Format the results as a string\n",
    "results_str = f\"\"\"Financial Analysis\n",
    "----------------------------\n",
    "Total Months: {total_months}\n",
    "Total: ${net_total}\n",
    "Average Change: ${average_change:.2f}\n",
    "Greatest Increase in Profits: {greatest_increase[\"date\"]} (${greatest_increase[\"amount\"]})\n",
    "Greatest Decrease in Profits: {greatest_decrease[\"date\"]} (${greatest_decrease[\"amount\"]})\"\"\""
   ]
  },
  {
   "cell_type": "code",
   "execution_count": 48,
   "metadata": {},
   "outputs": [
    {
     "name": "stdout",
     "output_type": "stream",
     "text": [
      "Financial Analysis\n",
      "----------------------------\n",
      "Total Months: 86\n",
      "Total: $22564198\n",
      "Average Change: $-8311.11\n",
      "Greatest Increase in Profits: Aug-16 ($1862002)\n",
      "Greatest Decrease in Profits: Feb-14 ($-1825558)\n"
     ]
    }
   ],
   "source": [
    "# Print the results to the terminal\n",
    "print(results_str)"
   ]
  },
  {
   "cell_type": "code",
   "execution_count": 49,
   "metadata": {},
   "outputs": [],
   "source": [
    "# Write the financial analysis results to a text file\n",
    "# The output_file variable stores the path to the output file\n",
    "# The \"w\" mode opens the file for writing, and the newline='' argument ensures that the correct line endings are used\n",
    "with open(\"analysis/financial_analysis.txt\", \"w\", newline='') as output_file:\n",
    "    # Write the financial analysis results to the output file using the write() method\n",
    "    # The results_str variable contains the formatted financial analysis results\n",
    "    output_file.write(results_str)"
   ]
  }
 ],
 "metadata": {
  "kernelspec": {
   "display_name": "base",
   "language": "python",
   "name": "python3"
  },
  "language_info": {
   "codemirror_mode": {
    "name": "ipython",
    "version": 3
   },
   "file_extension": ".py",
   "mimetype": "text/x-python",
   "name": "python",
   "nbconvert_exporter": "python",
   "pygments_lexer": "ipython3",
   "version": "3.11.5"
  }
 },
 "nbformat": 4,
 "nbformat_minor": 2
}
