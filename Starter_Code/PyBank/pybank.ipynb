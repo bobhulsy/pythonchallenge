{
 "cells": [
  {
   "cell_type": "code",
   "execution_count": 1,
   "metadata": {},
   "outputs": [],
   "source": [
    "import os\n",
    "import csv"
   ]
  },
  {
   "cell_type": "code",
   "execution_count": 2,
   "metadata": {},
   "outputs": [],
   "source": [
    "# Set up variables to hold financial analysis data\n",
    "total_months = 0\n",
    "net_total = 0\n",
    "profit_changes = []\n",
    "greatest_increase = {\"date\": \"\", \"amount\": 0}\n",
    "greatest_decrease = {\"date\": \"\", \"amount\": 0}"
   ]
  },
  {
   "cell_type": "code",
   "execution_count": 3,
   "metadata": {},
   "outputs": [],
   "source": [
    "# Read in the budget_data.csv file\n",
    "with open(\"Resources/budget_data.csv\") as csvfile:\n",
    "    csvreader = csv.reader(csvfile, delimiter=\",\")\n",
    "    # Skip header row\n",
    "    next(csvreader)\n",
    "    # Loop through each row of data\n",
    "    for row in csvreader:\n",
    "        # Count the total number of months\n",
    "        total_months += 1\n",
    "        # Add the profit/loss to the net total\n",
    "        net_total += int(row[1])\n",
    "        # Calculate the change in profit/loss from the previous month\n",
    "        if total_months > 1:\n",
    "            profit_changes.append(int(row[1]) - prev_profit)\n",
    "            # Check for greatest increase/decrease in profits\n",
    "            if int(row[1]) - prev_profit > greatest_increase[\"amount\"]:\n",
    "                greatest_increase[\"date\"] = row[0]\n",
    "                greatest_increase[\"amount\"] = int(row[1]) - prev_profit\n",
    "            elif int(row[1]) - prev_profit < greatest_decrease[\"amount\"]:\n",
    "                greatest_decrease[\"date\"] = row[0]\n",
    "                greatest_decrease[\"amount\"] = int(row[1]) - prev_profit\n",
    "        # Store the current month's profit/loss for use in the next iteration\n",
    "        prev_profit = int(row[1])"
   ]
  },
  {
   "cell_type": "code",
   "execution_count": 4,
   "metadata": {},
   "outputs": [],
   "source": [
    "# Calculate the average change in profit/loss\n",
    "average_change = sum(profit_changes) / len(profit_changes)"
   ]
  },
  {
   "cell_type": "code",
   "execution_count": 5,
   "metadata": {},
   "outputs": [],
   "source": [
    "# Format the results as a string\n",
    "results_str = f\"\"\"Financial Analysis\n",
    "----------------------------\n",
    "Total Months: {total_months}\n",
    "Total: ${net_total}\n",
    "Average Change: ${average_change:.2f}\n",
    "Greatest Increase in Profits: {greatest_increase[\"date\"]} (${greatest_increase[\"amount\"]})\n",
    "Greatest Decrease in Profits: {greatest_decrease[\"date\"]} (${greatest_decrease[\"amount\"]})\"\"\""
   ]
  },
  {
   "cell_type": "code",
   "execution_count": 6,
   "metadata": {},
   "outputs": [
    {
     "name": "stdout",
     "output_type": "stream",
     "text": [
      "Financial Analysis\n",
      "----------------------------\n",
      "Total Months: 86\n",
      "Total: $22564198\n",
      "Average Change: $-8311.11\n",
      "Greatest Increase in Profits: Aug-16 ($1862002)\n",
      "Greatest Decrease in Profits: Feb-14 ($-1825558)\n"
     ]
    }
   ],
   "source": [
    "# Print the results to the terminal\n",
    "print(results_str)"
   ]
  },
  {
   "cell_type": "code",
   "execution_count": 7,
   "metadata": {},
   "outputs": [],
   "source": [
    "# Write the results to the output file\n",
    "with open(\"analysis/financial_analysis.txt\", \"w\", newline='') as output_file:\n",
    "    output_file.write(results_str)"
   ]
  }
 ],
 "metadata": {
  "kernelspec": {
   "display_name": "base",
   "language": "python",
   "name": "python3"
  },
  "language_info": {
   "codemirror_mode": {
    "name": "ipython",
    "version": 3
   },
   "file_extension": ".py",
   "mimetype": "text/x-python",
   "name": "python",
   "nbconvert_exporter": "python",
   "pygments_lexer": "ipython3",
   "version": "3.11.5"
  }
 },
 "nbformat": 4,
 "nbformat_minor": 2
}
