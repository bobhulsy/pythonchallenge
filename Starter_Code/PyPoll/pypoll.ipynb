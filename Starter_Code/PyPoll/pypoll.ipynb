{
 "cells": [
  {
   "cell_type": "code",
   "execution_count": 19,
   "metadata": {},
   "outputs": [],
   "source": [
    "# Import modules\n",
    "import os\n",
    "import csv\n"
   ]
  },
  {
   "cell_type": "code",
   "execution_count": 20,
   "metadata": {},
   "outputs": [],
   "source": [
    "# Initialize variables to hold election data\n",
    "total_votes = 0\n",
    "candidates = {}\n",
    "winner = {\"name\": None, \"votes\": 0}"
   ]
  },
  {
   "cell_type": "code",
   "execution_count": 21,
   "metadata": {},
   "outputs": [],
   "source": [
    "\n",
    "# Count election results from CSV file\n",
    "with open(\"Resources/election_data.csv\") as csvfile:\n",
    "    csvreader = csv.reader(csvfile, delimiter=\",\")\n",
    "    # Skip header row\n",
    "    next(csvreader)\n",
    "    # Loop through each row of data\n",
    "    for row in csvreader:\n",
    "        # Count the total number of votes\n",
    "        total_votes += 1\n",
    "        # Add the candidate's vote to their total\n",
    "        candidate = row[2]\n",
    "        if candidate in candidates:\n",
    "            candidates[candidate] += 1\n",
    "        else:\n",
    "            candidates[candidate] = 1\n",
    "\n"
   ]
  },
  {
   "cell_type": "code",
   "execution_count": 22,
   "metadata": {},
   "outputs": [],
   "source": [
    "\n",
    "# Calculate percentage and ads to dictionary\n",
    "for candidate, votes in candidates.items():\n",
    "    percentage = votes / total_votes * 100\n",
    "    candidates[candidate] = {\"votes\": votes, \"percentage\": percentage}\n",
    "    if votes > winner[\"votes\"]:\n",
    "        winner[\"name\"] = candidate\n",
    "        winner[\"votes\"] = votes\n",
    "\n"
   ]
  },
  {
   "cell_type": "code",
   "execution_count": 23,
   "metadata": {},
   "outputs": [],
   "source": [
    "\n",
    "# Format the results as a string\n",
    "results_str = f\"\"\"Election Results\n",
    "-------------------------\n",
    "Total Votes: {total_votes}\n",
    "-------------------------\"\"\"\n",
    "for candidate, data in candidates.items():\n",
    "    results_str += f\"\"\"\\n{candidate}: {data[\"percentage\"]:.3f}% ({data[\"votes\"]})\"\"\"\n",
    "results_str += f\"\"\"\\n-------------------------\n",
    "Winner: {winner[\"name\"]}\n",
    "-------------------------\"\"\"\n"
   ]
  },
  {
   "cell_type": "code",
   "execution_count": 24,
   "metadata": {},
   "outputs": [
    {
     "name": "stdout",
     "output_type": "stream",
     "text": [
      "Election Results\n",
      "-------------------------\n",
      "Total Votes: 369711\n",
      "-------------------------\n",
      "Charles Casper Stockham: 23.049% (85213)\n",
      "Diana DeGette: 73.812% (272892)\n",
      "Raymon Anthony Doane: 3.139% (11606)\n",
      "-------------------------\n",
      "Winner: Diana DeGette\n",
      "-------------------------\n"
     ]
    }
   ],
   "source": [
    "#Print results and write to file\n",
    "print(results_str)\n",
    "\n",
    "\n",
    "with open(\"analysis/election_results.txt\", \"w\", newline='') as output_file:\n",
    "    output_file.write(results_str)"
   ]
  }
 ],
 "metadata": {
  "kernelspec": {
   "display_name": "base",
   "language": "python",
   "name": "python3"
  },
  "language_info": {
   "codemirror_mode": {
    "name": "ipython",
    "version": 3
   },
   "file_extension": ".py",
   "mimetype": "text/x-python",
   "name": "python",
   "nbconvert_exporter": "python",
   "pygments_lexer": "ipython3",
   "version": "3.11.5"
  }
 },
 "nbformat": 4,
 "nbformat_minor": 2
}
